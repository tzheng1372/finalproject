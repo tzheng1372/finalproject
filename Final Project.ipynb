{
 "cells": [
  {
   "cell_type": "raw",
   "id": "1aa2edef",
   "metadata": {},
   "source": [
    "For this project I found a wine quality dataset with 11 different features that show the different physiochemical attributes of the wine. Using the 11 features, we can create a model that will predict the quality of the wine. "
   ]
  },
  {
   "cell_type": "code",
   "execution_count": 1,
   "id": "55fc8a4d",
   "metadata": {},
   "outputs": [],
   "source": [
    "import pandas as pd\n",
    "import numpy as np\n",
    "import matplotlib\n",
    "import matplotlib.pyplot as plt"
   ]
  },
  {
   "cell_type": "code",
   "execution_count": 2,
   "id": "376c153b",
   "metadata": {},
   "outputs": [
    {
     "data": {
      "text/html": [
       "<div>\n",
       "<style scoped>\n",
       "    .dataframe tbody tr th:only-of-type {\n",
       "        vertical-align: middle;\n",
       "    }\n",
       "\n",
       "    .dataframe tbody tr th {\n",
       "        vertical-align: top;\n",
       "    }\n",
       "\n",
       "    .dataframe thead th {\n",
       "        text-align: right;\n",
       "    }\n",
       "</style>\n",
       "<table border=\"1\" class=\"dataframe\">\n",
       "  <thead>\n",
       "    <tr style=\"text-align: right;\">\n",
       "      <th></th>\n",
       "      <th>fixed acidity</th>\n",
       "      <th>volatile acidity</th>\n",
       "      <th>citric acid</th>\n",
       "      <th>residual sugar</th>\n",
       "      <th>chlorides</th>\n",
       "      <th>free sulfur dioxide</th>\n",
       "      <th>total sulfur dioxide</th>\n",
       "      <th>density</th>\n",
       "      <th>pH</th>\n",
       "      <th>sulphates</th>\n",
       "      <th>alcohol</th>\n",
       "      <th>quality</th>\n",
       "    </tr>\n",
       "  </thead>\n",
       "  <tbody>\n",
       "    <tr>\n",
       "      <th>0</th>\n",
       "      <td>7.4</td>\n",
       "      <td>0.70</td>\n",
       "      <td>0.00</td>\n",
       "      <td>1.9</td>\n",
       "      <td>0.076</td>\n",
       "      <td>11.0</td>\n",
       "      <td>34.0</td>\n",
       "      <td>0.9978</td>\n",
       "      <td>3.51</td>\n",
       "      <td>0.56</td>\n",
       "      <td>9.4</td>\n",
       "      <td>5</td>\n",
       "    </tr>\n",
       "    <tr>\n",
       "      <th>1</th>\n",
       "      <td>7.8</td>\n",
       "      <td>0.88</td>\n",
       "      <td>0.00</td>\n",
       "      <td>2.6</td>\n",
       "      <td>0.098</td>\n",
       "      <td>25.0</td>\n",
       "      <td>67.0</td>\n",
       "      <td>0.9968</td>\n",
       "      <td>3.20</td>\n",
       "      <td>0.68</td>\n",
       "      <td>9.8</td>\n",
       "      <td>5</td>\n",
       "    </tr>\n",
       "    <tr>\n",
       "      <th>2</th>\n",
       "      <td>7.8</td>\n",
       "      <td>0.76</td>\n",
       "      <td>0.04</td>\n",
       "      <td>2.3</td>\n",
       "      <td>0.092</td>\n",
       "      <td>15.0</td>\n",
       "      <td>54.0</td>\n",
       "      <td>0.9970</td>\n",
       "      <td>3.26</td>\n",
       "      <td>0.65</td>\n",
       "      <td>9.8</td>\n",
       "      <td>5</td>\n",
       "    </tr>\n",
       "    <tr>\n",
       "      <th>3</th>\n",
       "      <td>11.2</td>\n",
       "      <td>0.28</td>\n",
       "      <td>0.56</td>\n",
       "      <td>1.9</td>\n",
       "      <td>0.075</td>\n",
       "      <td>17.0</td>\n",
       "      <td>60.0</td>\n",
       "      <td>0.9980</td>\n",
       "      <td>3.16</td>\n",
       "      <td>0.58</td>\n",
       "      <td>9.8</td>\n",
       "      <td>6</td>\n",
       "    </tr>\n",
       "    <tr>\n",
       "      <th>4</th>\n",
       "      <td>7.4</td>\n",
       "      <td>0.70</td>\n",
       "      <td>0.00</td>\n",
       "      <td>1.9</td>\n",
       "      <td>0.076</td>\n",
       "      <td>11.0</td>\n",
       "      <td>34.0</td>\n",
       "      <td>0.9978</td>\n",
       "      <td>3.51</td>\n",
       "      <td>0.56</td>\n",
       "      <td>9.4</td>\n",
       "      <td>5</td>\n",
       "    </tr>\n",
       "  </tbody>\n",
       "</table>\n",
       "</div>"
      ],
      "text/plain": [
       "   fixed acidity  volatile acidity  citric acid  residual sugar  chlorides  \\\n",
       "0            7.4              0.70         0.00             1.9      0.076   \n",
       "1            7.8              0.88         0.00             2.6      0.098   \n",
       "2            7.8              0.76         0.04             2.3      0.092   \n",
       "3           11.2              0.28         0.56             1.9      0.075   \n",
       "4            7.4              0.70         0.00             1.9      0.076   \n",
       "\n",
       "   free sulfur dioxide  total sulfur dioxide  density    pH  sulphates  \\\n",
       "0                 11.0                  34.0   0.9978  3.51       0.56   \n",
       "1                 25.0                  67.0   0.9968  3.20       0.68   \n",
       "2                 15.0                  54.0   0.9970  3.26       0.65   \n",
       "3                 17.0                  60.0   0.9980  3.16       0.58   \n",
       "4                 11.0                  34.0   0.9978  3.51       0.56   \n",
       "\n",
       "   alcohol  quality  \n",
       "0      9.4        5  \n",
       "1      9.8        5  \n",
       "2      9.8        5  \n",
       "3      9.8        6  \n",
       "4      9.4        5  "
      ]
     },
     "execution_count": 2,
     "metadata": {},
     "output_type": "execute_result"
    }
   ],
   "source": [
    "df = pd.read_csv('winequality-red.csv')\n",
    "df.head()"
   ]
  },
  {
   "cell_type": "code",
   "execution_count": 3,
   "id": "7351fc0a",
   "metadata": {},
   "outputs": [],
   "source": [
    "#Split the data into features and output.\n",
    "X = np.array(df[['fixed acidity', 'volatile acidity', 'citric acid', 'residual sugar', 'chlorides', 'free sulfur dioxide', \n",
    "                 'total sulfur dioxide', 'density', 'pH', 'sulphates', 'alcohol']])\n",
    "y = np.array(df['quality'])"
   ]
  },
  {
   "cell_type": "code",
   "execution_count": 4,
   "id": "953c0428",
   "metadata": {},
   "outputs": [
    {
     "data": {
      "text/plain": [
       "[<matplotlib.lines.Line2D at 0x1a9819f5ac0>]"
      ]
     },
     "execution_count": 4,
     "metadata": {},
     "output_type": "execute_result"
    },
    {
     "data": {
      "image/png": "[encoded data removed]",
      "text/plain": [
       "<Figure size 1080x720 with 11 Axes>"
      ]
     },
     "metadata": {
      "needs_background": "light"
     },
     "output_type": "display_data"
    }
   ],
   "source": [
    "#Graph each feature and output to see the correlation\n",
    "plt.figure(figsize = (15,10))\n",
    "plt.subplot(3,5,1)\n",
    "plt.plot(df['fixed acidity'], df['quality'], 'o')\n",
    "plt.subplot(3,5,2)\n",
    "plt.plot(df['volatile acidity'], df['quality'], 'o')\n",
    "plt.subplot(3,5,3)\n",
    "plt.plot(df['citric acid'], df['quality'], 'o')\n",
    "plt.subplot(3,5,4)\n",
    "plt.plot(df['residual sugar'], df['quality'], 'o')\n",
    "plt.subplot(3,5,5)\n",
    "plt.plot(df['chlorides'], df['quality'], 'o')\n",
    "plt.subplot(3,5,6)\n",
    "plt.plot(df['free sulfur dioxide'], df['quality'], 'o')\n",
    "plt.subplot(3,5,7)\n",
    "plt.plot(df['total sulfur dioxide'], df['quality'], 'o')\n",
    "plt.subplot(3,5,8)\n",
    "plt.plot(df['density'], df['quality'], 'o')\n",
    "plt.subplot(3,5,9)\n",
    "plt.plot(df['pH'], df['quality'], 'o')\n",
    "plt.subplot(3,5,10)\n",
    "plt.plot(df['sulphates'], df['quality'], 'o')\n",
    "plt.subplot(3,5,11)\n",
    "plt.plot(df['alcohol'], df['quality'], 'o')"
   ]
  },
  {
   "cell_type": "code",
   "execution_count": 5,
   "id": "ab98e8a0",
   "metadata": {},
   "outputs": [],
   "source": [
    "#split the dataset into training data and test data.\n",
    "from sklearn.model_selection import train_test_split\n",
    "\n",
    "Xtr,Xts,ytr,yts = train_test_split(X, y, test_size = 0.25)\n"
   ]
  },
  {
   "cell_type": "code",
   "execution_count": 6,
   "id": "e78e21a5",
   "metadata": {},
   "outputs": [
    {
     "name": "stdout",
     "output_type": "stream",
     "text": [
      "0.3549300319154124\n",
      "0.0\n"
     ]
    }
   ],
   "source": [
    "#I started with a multiple linear regression. \n",
    "from sklearn import linear_model\n",
    "from sklearn.metrics import r2_score\n",
    "regr = linear_model.LinearRegression()\n",
    "regr.fit(Xtr, ytr)\n",
    "yhat = regr.predict(Xts)\n",
    "rsq = r2_score(yts, yhat)\n",
    "print(rsq)\n",
    "acc = np.mean(yts == yhat)\n",
    "print(acc)"
   ]
  },
  {
   "cell_type": "code",
   "execution_count": 7,
   "id": "a3847d32",
   "metadata": {},
   "outputs": [
    {
     "name": "stdout",
     "output_type": "stream",
     "text": [
      "0.21286041581504123\n",
      "0.585\n"
     ]
    },
    {
     "name": "stderr",
     "output_type": "stream",
     "text": [
      "C:\\Users\\tzhen\\anaconda3\\lib\\site-packages\\sklearn\\linear_model\\_logistic.py:763: ConvergenceWarning: lbfgs failed to converge (status=1):\n",
      "STOP: TOTAL NO. of ITERATIONS REACHED LIMIT.\n",
      "\n",
      "Increase the number of iterations (max_iter) or scale the data as shown in:\n",
      "    https://scikit-learn.org/stable/modules/preprocessing.html\n",
      "Please also refer to the documentation for alternative solver options:\n",
      "    https://scikit-learn.org/stable/modules/linear_model.html#logistic-regression\n",
      "  n_iter_i = _check_optimize_result(\n"
     ]
    }
   ],
   "source": [
    "#I got an accuracy of 0% for linear regression, so I switched to logistic regression \n",
    "#to see if it would increase the accuracy.\n",
    "from sklearn import linear_model\n",
    "from sklearn.metrics import r2_score\n",
    "logreg = linear_model.LogisticRegression(C=1e5)\n",
    "logreg.fit(Xtr, ytr)\n",
    "yhat = logreg.predict(Xts)\n",
    "rsq = r2_score(yts, yhat)\n",
    "print(rsq)\n",
    "acc = np.mean(yts == yhat)\n",
    "print(acc)"
   ]
  },
  {
   "cell_type": "code",
   "execution_count": 8,
   "id": "2c4ed4ca",
   "metadata": {},
   "outputs": [
    {
     "name": "stdout",
     "output_type": "stream",
     "text": [
      "[LibSVM]0.01512486809708058\n",
      "0.52\n"
     ]
    }
   ],
   "source": [
    "#I also tried a SVM to see if a SVM would improve on the accuracy.\n",
    "from sklearn import svm\n",
    "svc = svm.SVC(probability = False, kernel = 'rbf', C=2.8, gamma = 0.0073, verbose = 10)\n",
    "svc.fit(Xtr, ytr)\n",
    "yhat = svc.predict(Xts)\n",
    "rsq = r2_score(yts, yhat)\n",
    "print(rsq)\n",
    "acc = np.mean(yts == yhat)\n",
    "print(acc)"
   ]
  },
  {
   "cell_type": "code",
   "execution_count": 9,
   "id": "d9767af3",
   "metadata": {},
   "outputs": [
    {
     "name": "stdout",
     "output_type": "stream",
     "text": [
      "[LibSVM]-0.11416375925697064\n",
      "0.555\n"
     ]
    }
   ],
   "source": [
    "svc = svm.SVC(probability = False, kernel = 'rbf', C=10, gamma = 1, verbose = 10)\n",
    "svc.fit(Xtr, ytr)\n",
    "yhat = svc.predict(Xts)\n",
    "rsq = r2_score(yts, yhat)\n",
    "print(rsq)\n",
    "acc = np.mean(yts == yhat)\n",
    "print(acc)"
   ]
  },
  {
   "cell_type": "raw",
   "id": "b2742334",
   "metadata": {},
   "source": [
    "In the beginning, with parameters C=2.8, gamma = 0.0073, the accuracy was 52%. With some trial and error, the accuracy went up to 55.5% which is the less than the logistic regression model. I also tried different kernels, but rbf out performed most of them and it was easier to try different values for gamma and C with rbf, since the compute time was really fast compared to other kernels."
   ]
  },
  {
   "cell_type": "code",
   "execution_count": 10,
   "id": "efad579c",
   "metadata": {},
   "outputs": [
    {
     "name": "stdout",
     "output_type": "stream",
     "text": [
      "0.26229430274453147\n",
      "0.6475\n"
     ]
    }
   ],
   "source": [
    "#After some more research I tried a random forest classifier to see if it would improve on the accuracy.\n",
    "from sklearn.ensemble import RandomForestClassifier\n",
    "rfc = RandomForestClassifier(random_state = 0)\n",
    "rfc.fit(Xtr, ytr)\n",
    "yhat = rfc.predict(Xts)\n",
    "rsq = r2_score(yts, yhat)\n",
    "print(rsq)\n",
    "acc = np.mean(yts == yhat)\n",
    "print(acc)"
   ]
  },
  {
   "cell_type": "raw",
   "id": "f03d7c22",
   "metadata": {},
   "source": [
    "After testing 4 different models, the random forest classifier had the best performance since it had the highest accuracy on the test data. The models can be improved if there was more features or by removing some features. There could also be another model or classifier that would have a better performance. The performance of the model could improve too if I change the scale for the quality to Good or Bad instead of an numerical value. "
   ]
  },
  {
   "cell_type": "raw",
   "id": "ef6aeffa",
   "metadata": {},
   "source": [
    "Citation:\n",
    "P. Cortez, A. Cerdeira, F. Almeida, T. Matos and J. Reis. Modeling wine preferences by data mining from physicochemical properties.\n",
    "In Decision Support Systems, Elsevier, 47(4):547-553, 2009."
   ]
  }
 ],
 "metadata": {
  "kernelspec": {
   "display_name": "Python 3",
   "language": "python",
   "name": "python3"
  },
  "language_info": {
   "codemirror_mode": {
    "name": "ipython",
    "version": 3
   },
   "file_extension": ".py",
   "mimetype": "text/x-python",
   "name": "python",
   "nbconvert_exporter": "python",
   "pygments_lexer": "ipython3",
   "version": "3.8.8"
  }
 },
 "nbformat": 4,
 "nbformat_minor": 5
}
